{
 "cells": [
  {
   "cell_type": "markdown",
   "metadata": {},
   "source": [
    "# Two pointers"
   ]
  },
  {
   "cell_type": "code",
   "execution_count": null,
   "metadata": {},
   "outputs": [],
   "source": [
    "# + 75 Sort Colors\n",
    "# 80 Remove Duplicates from Sorted Array II\n",
    "# 88 Merge Sorted Array\n",
    "# 457 Circular Array Loop\n",
    "# 713 Subarray Product Less Than K\n",
    "# 845 Longest Mountain in Array\n",
    "# 904 Fruit into baskets\n",
    "# 925 Long Pressed name\n",
    "# 986 Interval list intersections"
   ]
  },
  {
   "cell_type": "code",
   "execution_count": null,
   "metadata": {},
   "outputs": [],
   "source": [
    "\"\"\"Sort Colors (LeetCode: 75)\n",
    "\n",
    "DESCRIPTION: Given an array nums with n objects colored red, white, or blue, sort them in-place\n",
    "so that objects of the same color are adjacent, with the colors in the order red, white, and blue.\n",
    "\n",
    "We will use the integers 0, 1, and 2 to represent the color red, white, and blue, respectively.\n",
    "You must solve this problem without using the library's sort function.\n",
    "\n",
    "EXAMPLE 1:\n",
    "INPUT: nums = [2, 0, 2, 1, 1, 0]\n",
    "OUTPUT: [0, 0, 1, 1, 2, 2]\n",
    "\n",
    "EXAMPLE 2:\n",
    "INPUT: nums = [2, 0, 1]\n",
    "OUTPUT: [0, 1, 2]\n",
    "\n",
    "CONSTRAINTS:\n",
    "    n == nums.length\n",
    "    1 <= n <= 300\n",
    "    nums[i] is either 0, 1, or 2.\n",
    "\"\"\"\n",
    "\n",
    "class Solution:\n",
    "    def sort_colors(self, nums: List[int]) -> None:\n",
    "        \"\"\"\n",
    "        Do not return anything, modify nums in-place instead.\n",
    "        \"\"\"\n",
    "        i = 0\n",
    "        left, right = 0, len(nums) - 1\n",
    "        while i <= right:\n",
    "            if nums[i] == 0:\n",
    "                nums[left], nums[i] = nums[i], nums[left]\n",
    "                left += 1\n",
    "            elif nums[i] == 2:\n",
    "                nums[i], nums[right] = nums[right], nums[i]\n",
    "                right -= 1\n",
    "                i -= 1\n",
    "            i += 1"
   ]
  },
  {
   "cell_type": "code",
   "execution_count": null,
   "metadata": {},
   "outputs": [],
   "source": []
  }
 ],
 "metadata": {
  "kernelspec": {
   "display_name": "Python 3",
   "language": "python",
   "name": "python3"
  },
  "language_info": {
   "codemirror_mode": {
    "name": "ipython",
    "version": 3
   },
   "file_extension": ".py",
   "mimetype": "text/x-python",
   "name": "python",
   "nbconvert_exporter": "python",
   "pygments_lexer": "ipython3",
   "version": "3.6.4"
  }
 },
 "nbformat": 4,
 "nbformat_minor": 2
}
